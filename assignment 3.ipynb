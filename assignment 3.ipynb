{
 "cells": [
  {
   "cell_type": "markdown",
   "metadata": {},
   "source": [
    "Ans 1. To print an empty list. Answer of Q1. is given in the code block below....."
   ]
  },
  {
   "cell_type": "code",
   "execution_count": 1,
   "metadata": {},
   "outputs": [
    {
     "name": "stdout",
     "output_type": "stream",
     "text": [
      "[]\n"
     ]
    }
   ],
   "source": [
    "a=[]\n",
    "print(a)"
   ]
  },
  {
   "cell_type": "markdown",
   "metadata": {},
   "source": [
    "Ans 2. To add an element to the end of the list. Answer of Q2.is given in the code block below."
   ]
  },
  {
   "cell_type": "code",
   "execution_count": 3,
   "metadata": {},
   "outputs": [
    {
     "name": "stdout",
     "output_type": "stream",
     "text": [
      "[95, 96, 'pwskills', 'python', 'hello world']\n"
     ]
    }
   ],
   "source": [
    "a=[95,96,'pwskills','python']\n",
    "a.append('hello world')\n",
    "print(a)"
   ]
  },
  {
   "cell_type": "markdown",
   "metadata": {},
   "source": [
    "Ans 3. To find the last element of the above list. Answer of Q3. is given in the code block below."
   ]
  },
  {
   "cell_type": "code",
   "execution_count": 5,
   "metadata": {},
   "outputs": [
    {
     "name": "stdout",
     "output_type": "stream",
     "text": [
      "python\n"
     ]
    }
   ],
   "source": [
    "a=[95,96,'pwskills','python']\n",
    "l=len(a)\n",
    "print(a[l-1])"
   ]
  },
  {
   "cell_type": "markdown",
   "metadata": {},
   "source": [
    "Ans 4. To reverse the order of the list. Answer of Q4. is given in the code block below. "
   ]
  },
  {
   "cell_type": "code",
   "execution_count": 6,
   "metadata": {},
   "outputs": [
    {
     "name": "stdout",
     "output_type": "stream",
     "text": [
      "['python', 'pwskills', 96, 95]\n"
     ]
    }
   ],
   "source": [
    "a=[95,96,'pwskills','python']\n",
    "a.reverse()\n",
    "print(a)"
   ]
  },
  {
   "cell_type": "markdown",
   "metadata": {},
   "source": [
    "Ans 5. To sort the list. Answer of Q5. is given in the code block below. "
   ]
  },
  {
   "cell_type": "code",
   "execution_count": 12,
   "metadata": {},
   "outputs": [
    {
     "name": "stdout",
     "output_type": "stream",
     "text": [
      "Sorting in ascending order: [92, 94, 96, 98]\n",
      "Sorting in descending order: [98, 96, 94, 92]\n"
     ]
    }
   ],
   "source": [
    "a=[98,92,96,94]\n",
    "a.sort()\n",
    "print(\"Sorting in ascending order: \",end='')\n",
    "print(a)\n",
    "a.reverse()\n",
    "print(\"Sorting in descending order: \",end='')\n",
    "print(a)"
   ]
  },
  {
   "cell_type": "markdown",
   "metadata": {},
   "source": [
    "Ans 6. Create a list of 3 movies and print the second movie title. Answer of Q6. is given in the code block below."
   ]
  },
  {
   "cell_type": "code",
   "execution_count": 13,
   "metadata": {},
   "outputs": [
    {
     "name": "stdout",
     "output_type": "stream",
     "text": [
      "Mackennas Gold\n"
     ]
    }
   ],
   "source": [
    "a=[\"Titanic\",\"Mackennas Gold\",\"Avengers\"]\n",
    "print(a[1])"
   ]
  },
  {
   "cell_type": "markdown",
   "metadata": {},
   "source": [
    "Ans 7. To create a list of favourite animals and then add a new animal and then display the updated list. Answer of Q7. is given in the code block below."
   ]
  },
  {
   "cell_type": "code",
   "execution_count": 14,
   "metadata": {},
   "outputs": [
    {
     "name": "stdout",
     "output_type": "stream",
     "text": [
      "['tiger', 'lion', 'elephant', 'giraffe', 'zebra']\n"
     ]
    }
   ],
   "source": [
    "a=['tiger','lion','elephant','giraffe']\n",
    "a.append('zebra')\n",
    "print(a)"
   ]
  },
  {
   "cell_type": "markdown",
   "metadata": {},
   "source": [
    "Ans 8. To create a list of favourite cities and apply index() to find out the position of a specific city in the list and print it. Answer of Q8. is given in the code block below."
   ]
  },
  {
   "cell_type": "code",
   "execution_count": 15,
   "metadata": {},
   "outputs": [
    {
     "name": "stdout",
     "output_type": "stream",
     "text": [
      "3\n"
     ]
    }
   ],
   "source": [
    "a=['Kolkata','Mumbai','Pune','Indore','Jaipur']\n",
    "print(a.index('Indore'))"
   ]
  }
 ],
 "metadata": {
  "kernelspec": {
   "display_name": "Python 3",
   "language": "python",
   "name": "python3"
  },
  "language_info": {
   "codemirror_mode": {
    "name": "ipython",
    "version": 3
   },
   "file_extension": ".py",
   "mimetype": "text/x-python",
   "name": "python",
   "nbconvert_exporter": "python",
   "pygments_lexer": "ipython3",
   "version": "3.10.7"
  },
  "orig_nbformat": 4
 },
 "nbformat": 4,
 "nbformat_minor": 2
}
